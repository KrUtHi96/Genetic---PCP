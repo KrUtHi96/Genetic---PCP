{
 "cells": [
  {
   "cell_type": "code",
   "execution_count": 1,
   "metadata": {
    "collapsed": true
   },
   "outputs": [],
   "source": [
    "import random\n",
    "import numpy as np"
   ]
  },
  {
   "cell_type": "code",
   "execution_count": 2,
   "metadata": {},
   "outputs": [
    {
     "name": "stdout",
     "output_type": "stream",
     "text": [
      "GATTTCCAGTCAGAAGAGGCCAAAGTTTAAATTGTAAAGGGAAGGCATAAATGCAGTAATGTAATTTGCCCAAATCTGAATGTTGCACGAGCTACTCTTT\n"
     ]
    }
   ],
   "source": [
    "dna_length = 100\n",
    "dna = ''\n",
    "prob_dist = []\n",
    "\n",
    "for _ in range(dna_length):\n",
    "    curr_val = random.gauss(0, 1)\n",
    "    \n",
    "    if curr_val < -0.5:\n",
    "        dna += 'A'\n",
    "    elif curr_val < 0:\n",
    "        dna += 'C'\n",
    "    elif curr_val < 0.5:\n",
    "        dna += 'G'\n",
    "    else:\n",
    "        dna += 'T'\n",
    "print(dna)"
   ]
  },
  {
   "cell_type": "code",
   "execution_count": 6,
   "metadata": {},
   "outputs": [
    {
     "name": "stdout",
     "output_type": "stream",
     "text": [
      "[]\n"
     ]
    }
   ],
   "source": [
    "n_reads = 1000\n",
    "read_length = 100\n",
    "reads = list()\n",
    "for i in range(n_reads):\n",
    "    start_index = random.randint(0, dna_length - 1)\n",
    "    if start_index + read_length < dna_length:\n",
    "        reads.append(dna[start_index: start_index + read_length])\n",
    "        \n",
    "print(reads[:10])\n",
    "    "
   ]
  },
  {
   "cell_type": "code",
   "execution_count": null,
   "metadata": {
    "collapsed": true
   },
   "outputs": [],
   "source": []
  }
 ],
 "metadata": {
  "kernelspec": {
   "display_name": "Python 3",
   "language": "python",
   "name": "python3"
  },
  "language_info": {
   "codemirror_mode": {
    "name": "ipython",
    "version": 3
   },
   "file_extension": ".py",
   "mimetype": "text/x-python",
   "name": "python",
   "nbconvert_exporter": "python",
   "pygments_lexer": "ipython3",
   "version": "3.6.1"
  }
 },
 "nbformat": 4,
 "nbformat_minor": 2
}
