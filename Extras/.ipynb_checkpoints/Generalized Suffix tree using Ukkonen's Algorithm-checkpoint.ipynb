{
 "cells": [
  {
   "cell_type": "code",
   "execution_count": 1,
   "metadata": {
    "collapsed": true
   },
   "outputs": [],
   "source": [
    "from __future__ import print_function\n",
    "import sys"
   ]
  },
  {
   "cell_type": "code",
   "execution_count": 2,
   "metadata": {
    "collapsed": true
   },
   "outputs": [],
   "source": [
    "END_OF_STRING = sys.maxsize"
   ]
  },
  {
   "cell_type": "code",
   "execution_count": 3,
   "metadata": {
    "collapsed": true
   },
   "outputs": [],
   "source": [
    "class SuffixTreeNode:\n",
    "    \"\"\"\n",
    "    Suffix tree node class. Actually, it also respresents a tree edge that points to this node.\n",
    "    \"\"\"\n",
    "    new_identifier = 0\n",
    "\n",
    "    def __init__(self, start=0, end=END_OF_STRING, suffix_index = -1):\n",
    "        self.identifier = SuffixTreeNode.new_identifier\n",
    "        SuffixTreeNode.new_identifier += 1\n",
    "\n",
    "        # suffix link is required by Ukkonen's algorithm\n",
    "        self.suffix_link = None\n",
    "\n",
    "        # child edges/nodes, each dict key represents the first letter of an edge\n",
    "        self.edges = {}\n",
    "\n",
    "        # stores reference to parent\n",
    "        self.parent = None\n",
    "\n",
    "        # bit vector shows to which strings this node belongs\n",
    "        self.string_number = -1\n",
    "\n",
    "        # edge info: start index and end index\n",
    "        self.start = start\n",
    "        self.end = end\n",
    "        \n",
    "        # Needed by dfs\n",
    "        #self._visited = 0\n",
    "        \n",
    "        # Suffix index\n",
    "        self.suffix_index = suffix_index\n",
    "\n",
    "    def add_child(self, key, start, end, suffix_index):\n",
    "        \"\"\"\n",
    "        Create a new child node\n",
    "        Agrs:\n",
    "            key: a char that will be used during active edge searching\n",
    "            start, end: node's edge start and end indices\n",
    "        Returns:\n",
    "            created child node\n",
    "        \"\"\"\n",
    "        child = SuffixTreeNode(start=start, end=end)\n",
    "        child.parent = self\n",
    "        child.suffix_index = suffix_index\n",
    "        self.edges[key] = child\n",
    "        return child\n",
    "\n",
    "    def add_exisiting_node_as_child(self, key, node):\n",
    "        \"\"\"\n",
    "        Add an existing node as a child\n",
    "        Args:\n",
    "            key: a char that will be used during active edge searching\n",
    "            node: a node that will be added as a child\n",
    "        \"\"\"\n",
    "        node.parent = self\n",
    "        self.edges[key] = node\n",
    "\n",
    "    def get_edge_length(self, current_index):\n",
    "        \"\"\"\n",
    "        Get length of an edge that points to this node\n",
    "        Args:\n",
    "            current_index: index of current processing symbol (usefull for leaf nodes that have \"infinity\" end index)\n",
    "        \"\"\"\n",
    "        return min(self.end, current_index + 1) - self.start\n",
    "\n",
    "    def __str__(self):\n",
    "        return 'id=' + str(self.identifier)"
   ]
  },
  {
   "cell_type": "code",
   "execution_count": 4,
   "metadata": {
    "collapsed": true
   },
   "outputs": [],
   "source": [
    "class SuffixTree:\n",
    "    \"\"\"\n",
    "    Generalized suffix tree\n",
    "    \"\"\"\n",
    "\n",
    "    def __init__(self):\n",
    "        # the root node\n",
    "        self.root = SuffixTreeNode(suffix_index = -1)\n",
    "\n",
    "        # all strings are concatenated together. Tree's nodes stores only indices\n",
    "        self.input_string = ''\n",
    "\n",
    "        # number of strings stored by this tree\n",
    "        self.strings_count = 0\n",
    "\n",
    "        # list of tree leaves\n",
    "        self.leaves = []\n",
    "        \n",
    "        # Terminal Symbol generator\n",
    "        self.terminal_gen = self._terminalSymbolsGenerator()\n",
    "    \n",
    "    def append_string(self, input_string):\n",
    "        \"\"\"\n",
    "        Add new string to the suffix tree\n",
    "        \"\"\"\n",
    "        start_index = len(self.input_string)\n",
    "        current_string_index = self.strings_count\n",
    "\n",
    "        # each sting should have a unique ending\n",
    "        input_string += next(self.terminal_gen)#'$' + str(current_string_index)\n",
    "\n",
    "        # gathering 'em all together\n",
    "        self.input_string += input_string\n",
    "        self.strings_count += 1\n",
    "\n",
    "        # these 3 variables represents current \"active point\"\n",
    "        active_node = self.root\n",
    "        active_edge = 0\n",
    "        active_length = 0\n",
    "\n",
    "        # shows how many\n",
    "        remainder = 0\n",
    "\n",
    "        # new leaves appended to tree\n",
    "        new_leaves = []\n",
    "\n",
    "        # main circle\n",
    "        for index in range(start_index, len(self.input_string)):\n",
    "            previous_node = None\n",
    "            remainder += 1\n",
    "            while remainder > 0:\n",
    "                if active_length == 0:\n",
    "                    active_edge = index\n",
    "\n",
    "                if self.input_string[active_edge] not in active_node.edges:\n",
    "                    # no edge starting with current char, so creating a new leaf node\n",
    "                    leaf_node = active_node.add_child(self.input_string[active_edge], index, END_OF_STRING, index)\n",
    "\n",
    "                    # a leaf node will always be leaf node belonging to only one string\n",
    "                    # (because each string has different termination)\n",
    "                    leaf_node.string_number = current_string_index\n",
    "                    new_leaves.append(leaf_node)\n",
    "\n",
    "                    # doing suffix link magic\n",
    "                    if previous_node is not None:\n",
    "                        previous_node.suffix_link = active_node\n",
    "                    previous_node = active_node\n",
    "                else:\n",
    "                    # ok, we've got an active edge\n",
    "                    next_node = active_node.edges[self.input_string[active_edge]]\n",
    "\n",
    "                    # walking down through edges (if active_length is bigger than edge length)\n",
    "                    next_edge_length = next_node.get_edge_length(index)\n",
    "                    if active_length >= next_node.get_edge_length(index):\n",
    "                        active_edge += next_edge_length\n",
    "                        active_length -= next_edge_length\n",
    "                        active_node = next_node\n",
    "                        continue\n",
    "\n",
    "                    # current edge already contains the suffix we need to insert.\n",
    "                    # Increase the active_length and go forward\n",
    "                    if self.input_string[next_node.start + active_length] == self.input_string[index]:\n",
    "                        active_length += 1\n",
    "                        if previous_node is not None:\n",
    "                            previous_node.suffix_link = active_node\n",
    "                        previous_node = active_node\n",
    "                        break\n",
    "\n",
    "                    # splitting edge\n",
    "                    split_node = active_node.add_child(\n",
    "                        self.input_string[active_edge],\n",
    "                        next_node.start,\n",
    "                        next_node.start + active_length,\n",
    "                        index\n",
    "                    )\n",
    "                    next_node.start += active_length\n",
    "                    split_node.add_exisiting_node_as_child(self.input_string[next_node.start], next_node)\n",
    "                    leaf_node = split_node.add_child(self.input_string[index], index, END_OF_STRING, index)\n",
    "                    leaf_node.string_number = current_string_index\n",
    "                    new_leaves.append(leaf_node)\n",
    "\n",
    "                    # suffix link magic again\n",
    "                    if previous_node is not None:\n",
    "                        previous_node.suffix_link = split_node\n",
    "                    previous_node = split_node\n",
    "\n",
    "                remainder -= 1\n",
    "\n",
    "                # follow suffix link (if exists) or go to root\n",
    "                if active_node == self.root and active_length > 0:\n",
    "                    active_length -= 1\n",
    "                    active_edge = index - remainder + 1\n",
    "                else:\n",
    "                    active_node = active_node.suffix_link if active_node.suffix_link is not None else self.root\n",
    "\n",
    "        # update leaves ends from \"infinity\" to actual string end\n",
    "        for leaf in new_leaves:\n",
    "            leaf.end = len(self.input_string)\n",
    "        self.leaves.extend(new_leaves)\n",
    "\n",
    "    # Try : 1\n",
    "    def _dfs_helper(self, node, string_depth, string_len):\n",
    "        if string_depth == string_len:\n",
    "            print('Node ID: {0}\\nString Number: {1:b}\\nSuffix Number: {2}'.format(node, int(str(node.bit_vector), 1), node.suffix_index))#, node.start, node.end, string_depth)\n",
    "        \n",
    "        for key in node.edges:\n",
    "            #if not node.edges[key]._visited: # Not required as a tree cannot have 2 PARENTS having the same CHILD XD\n",
    "            self._dfs_helper(node.edges[key], string_depth+node.edges[key].get_edge_length(END_OF_STRING), string_len)\n",
    "    \n",
    "    def dfs(self, string_len):\n",
    "        self._dfs_helper(self.root, 0, string_len)\n",
    "    \n",
    "    # Try : 2\n",
    "    def _get_leaves(self, node, strings):\n",
    "        for key in node.edges:\n",
    "            curr_node = node.edges[key]\n",
    "            if curr_node.edges:\n",
    "                self._get_leaves(curr_node, strings)\n",
    "            else:\n",
    "                strings.append(curr_node.string_number)\n",
    "    \n",
    "    def overlap(self, current_string_num, string, min_overlap=0, verbose=False):\n",
    "        index = 0\n",
    "        current_node = self.root\n",
    "        max_overlaps = [0] * self.strings_count\n",
    "        while index < len(string):\n",
    "            if verbose:\n",
    "                print(index)\n",
    "                print(current_node)\n",
    "            \n",
    "            next_node = current_node.edges[string[index]]\n",
    "            index += next_node.get_edge_length(END_OF_STRING)\n",
    "            current_node = next_node\n",
    "            \n",
    "            # Finding Leaf nodes\n",
    "            strings = []\n",
    "            for key in current_node.edges:\n",
    "                if key not in ['A', 'G', 'T', 'C']:\n",
    "                    strings.append(current_node.edges[key].string_number)\n",
    "            \n",
    "            for str_num in strings:\n",
    "                if str_num != current_string_index and index >= min_overlap and index > max_overlaps[str_num]:\n",
    "                    max_overlaps[str_num] = index\n",
    "        '''\n",
    "            if '$' in current_node.edges:\n",
    "                node = current_node.edges['$']\n",
    "                \n",
    "                # Ending at more than 1 string\n",
    "                if node.edges:\n",
    "                    for key in node.edges:\n",
    "                        leaf_node = node.edges[key]\n",
    "\n",
    "                        # Update Max Overlap for nodes\n",
    "                        string_num = leaf_node.string_number\n",
    "                        if string_num != current_string_num and index > max_overlaps[string_num]:\n",
    "                            max_overlaps[string_num] = index\n",
    "\n",
    "                            if verbose:\n",
    "                                print('\\n***************LEAF IN PATH***************')\n",
    "                                print('Node ID: {}\\nString Number: {}\\nSuffix Number: {}\\nOverlap: {}'.format(\n",
    "                                            leaf_node,\n",
    "                                            string_num, \n",
    "                                            leaf_node.suffix_index,\n",
    "                                            max_overlaps[string_num]\n",
    "                                        )\n",
    "                                    )\n",
    "                                print('******************************************\\n')\n",
    "                # Ending at 1 string\n",
    "                else:\n",
    "                    if verbose:\n",
    "                        print(node)\n",
    "                        print(node.string_number)\n",
    "\n",
    "                    # Update Max Overlap for nodes\n",
    "                    string_num = node.string_number\n",
    "                    if index > max_overlaps[string_num]:\n",
    "                        max_overlaps[string_num] = index\n",
    "\n",
    "                        if verbose:\n",
    "                            print('\\n***************LEAF IN PATH***************')\n",
    "                            print('Node ID: {}\\nString Number: {}\\nSuffix Number: {}\\nOverlap: {}'.format(\n",
    "                                        node,\n",
    "                                        string_num, \n",
    "                                        node.suffix_index,\n",
    "                                        max_overlaps[string_num]\n",
    "                                    )\n",
    "                                )\n",
    "                            print('******************************************\\n')\n",
    "        \n",
    "        index -= 1 # Go back to remove $\n",
    "        for key in current_node.edges:\n",
    "            leaf_node = current_node.edges[key]\n",
    "\n",
    "            # Update Max Overlap for nodes\n",
    "            string_num = leaf_node.string_number\n",
    "            if string_num != current_string_num and index > max_overlaps[string_num]:\n",
    "                max_overlaps[string_num] = index\n",
    "\n",
    "                if verbose:\n",
    "                    print('\\n***************LEAF IN PATH***************')\n",
    "                    print('Node ID: {}\\nString Number: {}\\nSuffix Number: {}\\nOverlap: {}'.format(\n",
    "                                leaf_node,\n",
    "                                string_num, \n",
    "                                leaf_node.suffix_index,\n",
    "                                max_overlaps[string_num]\n",
    "                            )\n",
    "                        )\n",
    "                    print('******************************************\\n')\n",
    "        '''\n",
    "        return max_overlaps\n",
    "    \n",
    "    def _terminalSymbolsGenerator(self):\n",
    "        \"\"\"Generator of unique terminal symbols used for building the Generalized Suffix Tree.\n",
    "        Unicode Private Use Area U+E000..U+F8FF is used to ensure that terminal symbols\n",
    "        are not part of the input string.\n",
    "        \"\"\"\n",
    "        UPPAs = list(list(range(0xE000,0xF8FF+1)) + list(range(0xF0000,0xFFFFD+1)) + list(range(0x100000, 0x10FFFD+1)))\n",
    "        for i in UPPAs:\n",
    "            yield(chr(i))\n",
    "        raise ValueError(\"To many input strings.\")\n",
    "    \n",
    "    def to_graphviz(self, node=None, output=''):\n",
    "        \"\"\"\n",
    "        Show the tree as graphviz string. For debugging purposes only\n",
    "        \"\"\"\n",
    "        if node is None:\n",
    "            node = self.root\n",
    "            output = 'digraph G {edge [arrowsize=0.4,fontsize=10];'\n",
    "\n",
    "        output +=\\\n",
    "            str(node.identifier) + '[label=\"' +\\\n",
    "            str(node.identifier) + '\\\\n' + '{}'.format(node.string_number) + '\"'\n",
    "        #if node.bit_vector == 2 ** self.strings_count - 1:\n",
    "        #    output += ',style=\"filled\",fillcolor=\"red\"'\n",
    "        output += '];'\n",
    "        if node.suffix_link is not None:\n",
    "            output += str(node.identifier) + '->' + str(node.suffix_link.identifier) + '[style=\"dashed\"];'\n",
    "\n",
    "        for child in node.edges.values():\n",
    "            label = self.input_string[child.start:child.end]\n",
    "            output += str(node.identifier) + '->' + str(child.identifier) + '[label=\"' + label + '\"];'\n",
    "            output = self.to_graphviz(child, output)\n",
    "\n",
    "        if node == self.root:\n",
    "            output += '}'\n",
    "\n",
    "        return output\n",
    "\n",
    "    def __str__(self):\n",
    "        return self.to_graphviz()"
   ]
  },
  {
   "cell_type": "code",
   "execution_count": 5,
   "metadata": {
    "collapsed": true
   },
   "outputs": [],
   "source": [
    "SuffixTreeNode.new_identifier = 0\n",
    "suffix_tree = SuffixTree()\n",
    "input_strings = ['GACATA', 'ATAGAC', 'ATAGAC', 'GACATA', 'GACATA' , 'ATAGAC', 'ATAGAC', 'ATAGAC', 'GACATA', 'GACATA' , 'ATAGAC', 'ATAGAC', 'ATAGAC']\n",
    "for s in input_strings:\n",
    "    suffix_tree.append_string(s)"
   ]
  },
  {
   "cell_type": "code",
   "execution_count": 6,
   "metadata": {},
   "outputs": [
    {
     "data": {
      "text/plain": [
       "'graph.png'"
      ]
     },
     "execution_count": 6,
     "metadata": {},
     "output_type": "execute_result"
    }
   ],
   "source": [
    "from graphviz import render, Source\n",
    "open('graph', 'wb+').write(suffix_tree.to_graphviz().encode())\n",
    "render('dot', 'png', 'graph')"
   ]
  },
  {
   "cell_type": "code",
   "execution_count": 7,
   "metadata": {},
   "outputs": [
    {
     "name": "stdout",
     "output_type": "stream",
     "text": [
      "String 0: GACATA\n",
      "\n",
      "[6, 3, 3, 6, 6, 3, 3, 3, 6, 6, 3, 3, 3]\n",
      "String 1: ATAGAC\n",
      "\n",
      "[3, 6, 6, 3, 3, 6, 6, 6, 3, 3, 6, 6, 6]\n",
      "String 2: ATAGAC\n",
      "\n",
      "[3, 6, 6, 3, 3, 6, 6, 6, 3, 3, 6, 6, 6]\n",
      "String 3: GACATA\n",
      "\n",
      "[6, 3, 3, 6, 6, 3, 3, 3, 6, 6, 3, 3, 3]\n",
      "String 4: GACATA\n",
      "\n",
      "[6, 3, 3, 6, 6, 3, 3, 3, 6, 6, 3, 3, 3]\n",
      "String 5: ATAGAC\n",
      "\n",
      "[3, 6, 6, 3, 3, 6, 6, 6, 3, 3, 6, 6, 6]\n",
      "String 6: ATAGAC\n",
      "\n",
      "[3, 6, 6, 3, 3, 6, 6, 6, 3, 3, 6, 6, 6]\n",
      "String 7: ATAGAC\n",
      "\n",
      "[3, 6, 6, 3, 3, 6, 6, 6, 3, 3, 6, 6, 6]\n",
      "String 8: GACATA\n",
      "\n",
      "[6, 3, 3, 6, 6, 3, 3, 3, 6, 6, 3, 3, 3]\n",
      "String 9: GACATA\n",
      "\n",
      "[6, 3, 3, 6, 6, 3, 3, 3, 6, 6, 3, 3, 3]\n",
      "String 10: ATAGAC\n",
      "\n",
      "[3, 6, 6, 3, 3, 6, 6, 6, 3, 3, 6, 6, 6]\n",
      "String 11: ATAGAC\n",
      "\n",
      "[3, 6, 6, 3, 3, 6, 6, 6, 3, 3, 6, 6, 6]\n",
      "String 12: ATAGAC\n",
      "\n",
      "[3, 6, 6, 3, 3, 6, 6, 6, 3, 3, 6, 6, 6]\n"
     ]
    }
   ],
   "source": [
    "for str_num, string in enumerate(input_strings):\n",
    "    print('String {}: {}\\n'.format(str_num, string))\n",
    "    print(suffix_tree.overlap(str_num, string, min_overlap=3, verbose=False))"
   ]
  },
  {
   "cell_type": "code",
   "execution_count": 5,
   "metadata": {
    "collapsed": true
   },
   "outputs": [],
   "source": [
    "from DNAHelper import helper_functions\n",
    "s, q = helper_functions.read_fastq('Dataset/phix.fastq')"
   ]
  },
  {
   "cell_type": "code",
   "execution_count": 6,
   "metadata": {},
   "outputs": [
    {
     "data": {
      "text/plain": [
       "(1000, 1000)"
      ]
     },
     "execution_count": 6,
     "metadata": {},
     "output_type": "execute_result"
    }
   ],
   "source": [
    "SuffixTreeNode.new_identifier = 0\n",
    "suffix_tree = SuffixTree()\n",
    "for read in s:\n",
    "    suffix_tree.append_string(read)\n",
    "\n",
    "overlap_matrix = []\n",
    "for str_num, read in enumerate(s):\n",
    "    overlap_matrix.append(suffix_tree.overlap(str_num, read, verbose=False))\n",
    "\n",
    "len(overlap_matrix), len(overlap_matrix[0])"
   ]
  },
  {
   "cell_type": "code",
   "execution_count": 5,
   "metadata": {
    "collapsed": true
   },
   "outputs": [],
   "source": [
    "from Dataset import generate_dataset\n",
    "gd = generate_dataset.GenerateDataset(error_rate = 0.6, mutation_rate = 0.6)\n",
    "genome = gd.random_genome(length = 10000)\n",
    "reads = gd.random_reads(length = 100, num = 1000)"
   ]
  },
  {
   "cell_type": "code",
   "execution_count": 6,
   "metadata": {
    "collapsed": true
   },
   "outputs": [],
   "source": [
    "SuffixTreeNode.new_identifier = 0\n",
    "st = SuffixTree()\n",
    "for read in reads:\n",
    "    st.append_string(read)"
   ]
  },
  {
   "cell_type": "code",
   "execution_count": 7,
   "metadata": {},
   "outputs": [
    {
     "data": {
      "text/plain": [
       "(1000, 1000)"
      ]
     },
     "execution_count": 7,
     "metadata": {},
     "output_type": "execute_result"
    }
   ],
   "source": [
    "# Overlaps\n",
    "overlap_matrix = []\n",
    "for str_num, read in enumerate(reads):\n",
    "    overlap_matrix.append(st.overlap(str_num, read, verbose=False))\n",
    "\n",
    "len(overlap_matrix), len(overlap_matrix[0])"
   ]
  },
  {
   "cell_type": "code",
   "execution_count": 8,
   "metadata": {},
   "outputs": [
    {
     "data": {
      "text/plain": [
       "3"
      ]
     },
     "execution_count": 8,
     "metadata": {},
     "output_type": "execute_result"
    }
   ],
   "source": [
    "def naive_overlap(a, b, min_length=0):\n",
    "    start = 0\n",
    "    while True:\n",
    "        start = a.find(b[:min_length], start)\n",
    "        if start == -1:\n",
    "            return 0\n",
    "        if b.startswith(a[start:]):\n",
    "            return len(a) - start\n",
    "        start += 1\n",
    "\n",
    "naive_overlap('TTACGT', 'CGTACCGT')"
   ]
  },
  {
   "cell_type": "code",
   "execution_count": 9,
   "metadata": {
    "collapsed": true
   },
   "outputs": [],
   "source": [
    "def verify_matrix(reads, mat, min_overlap=0, verbose=False):\n",
    "    # Testing\n",
    "    n = len(reads)\n",
    "    read_len = 100\n",
    "    in_correct = 0\n",
    "    total = 0\n",
    "    for prefix_of_read in range(n):\n",
    "        for suffix_of_read in range(n):\n",
    "            \n",
    "            if prefix_of_read == suffix_of_read:\n",
    "                continue\n",
    "            \n",
    "            total += 1\n",
    "            score = int(mat[prefix_of_read][suffix_of_read])\n",
    "            \n",
    "            if verbose:\n",
    "                print('Reads:')\n",
    "                print(reads[prefix_of_read])\n",
    "                print(reads[suffix_of_read])\n",
    "                print('\\nScore: {}\\n\\nAligned:'.format(score))\n",
    "                print(reads[prefix_of_read][:score])\n",
    "                print(reads[suffix_of_read][read_len - score:])\n",
    "\n",
    "            if not reads[prefix_of_read][:score] == reads[suffix_of_read][read_len - score:]:\n",
    "                true_score = naive_overlap(reads[suffix_of_read], reads[prefix_of_read], min_length=min_overlap)\n",
    "                print('\\nReads:')\n",
    "                print(reads[prefix_of_read])\n",
    "                print(reads[suffix_of_read])\n",
    "                print('\\nScore: {}\\nTrue Score: {}\\n\\nAligned:'.format(score, true_score))\n",
    "                print(reads[prefix_of_read][:score])\n",
    "                print(reads[suffix_of_read][read_len - score:])\n",
    "                \n",
    "                score = true_score\n",
    "                \n",
    "                print(reads[prefix_of_read][:score])\n",
    "                print(reads[suffix_of_read][read_len - score:])\n",
    "                \n",
    "                in_correct += 1\n",
    "    print('{} / {} [{}%]'.format(in_correct, total, in_correct / total ))"
   ]
  },
  {
   "cell_type": "code",
   "execution_count": 10,
   "metadata": {},
   "outputs": [
    {
     "name": "stdout",
     "output_type": "stream",
     "text": [
      "0 / 999000 [0.0%]\n"
     ]
    }
   ],
   "source": [
    "verify_matrix(reads, overlap_matrix)"
   ]
  },
  {
   "cell_type": "code",
   "execution_count": 59,
   "metadata": {
    "scrolled": false
   },
   "outputs": [
    {
     "name": "stdout",
     "output_type": "stream",
     "text": [
      "[22, 4, 0, 2, 0, 18, 22, 4, 0, 2, 0, 18]\n",
      "[0, 22, 1, 0, 0, 14, 0, 22, 1, 0, 0, 14]\n",
      "[2, 0, 22, 0, 0, 0, 2, 0, 22, 0, 0, 0]\n",
      "[0, 4, 0, 22, 0, 0, 0, 4, 0, 22, 0, 0]\n",
      "[2, 0, 0, 0, 22, 0, 2, 0, 0, 0, 22, 0]\n",
      "[0, 0, 1, 0, 0, 22, 0, 0, 1, 0, 0, 22]\n",
      "[22, 4, 0, 2, 0, 18, 22, 4, 0, 2, 0, 18]\n",
      "[0, 22, 1, 0, 0, 14, 0, 22, 1, 0, 0, 14]\n",
      "[2, 0, 22, 0, 0, 0, 2, 0, 22, 0, 0, 0]\n",
      "[0, 4, 0, 22, 0, 0, 0, 4, 0, 22, 0, 0]\n",
      "[2, 0, 0, 0, 22, 0, 2, 0, 0, 0, 22, 0]\n",
      "[0, 0, 1, 0, 0, 22, 0, 0, 1, 0, 0, 22]\n"
     ]
    }
   ],
   "source": [
    "# Testing\n",
    "reads = [\n",
    "    'AACCTTTCACGGTCACCCGCGG',\n",
    "    'TTTCACGGTCACCCAGTCAACC',\n",
    "    'GGTTAAACCCGGTAACCGTCAT',\n",
    "    'AACCTTGTGCTCCCAACGTAAA',\n",
    "    'GGTTCCAAACACTTGGTCAATC',\n",
    "    'TTGGAACCTTTCACGGTCACCC',\n",
    "    'AACCTTTCACGGTCACCCGCGG',\n",
    "    'TTTCACGGTCACCCAGTCAACC',\n",
    "    'GGTTAAACCCGGTAACCGTCAT',\n",
    "    'AACCTTGTGCTCCCAACGTAAA',\n",
    "    'GGTTCCAAACACTTGGTCAATC',\n",
    "    'TTGGAACCTTTCACGGTCACCC'\n",
    "]\n",
    "suffix_tree = SuffixTree()\n",
    "for read in reads:\n",
    "    suffix_tree.append_string(read)\n",
    "\n",
    "for i, read in enumerate(reads):\n",
    "    print(suffix_tree.overlap(i, read, verbose=False))"
   ]
  },
  {
   "cell_type": "code",
   "execution_count": 13,
   "metadata": {},
   "outputs": [
    {
     "data": {
      "text/plain": [
       "'graph.png'"
      ]
     },
     "execution_count": 13,
     "metadata": {},
     "output_type": "execute_result"
    }
   ],
   "source": [
    "from graphviz import render, Source\n",
    "open('graph', 'w+').write(suffix_tree.to_graphviz())\n",
    "render('dot', 'png', 'graph')"
   ]
  },
  {
   "cell_type": "code",
   "execution_count": 60,
   "metadata": {},
   "outputs": [
    {
     "name": "stdout",
     "output_type": "stream",
     "text": [
      "Node ID: id=62\n",
      "String Number: 10\n",
      "Suffix Number: 11\n",
      "Node ID: id=51\n",
      "String Number: 1\n",
      "Suffix Number: 2\n"
     ]
    }
   ],
   "source": [
    "suffix_tree.dfs(len(input_strings[0]))"
   ]
  }
 ],
 "metadata": {
  "kernelspec": {
   "display_name": "Python 3",
   "language": "python",
   "name": "python3"
  },
  "language_info": {
   "codemirror_mode": {
    "name": "ipython",
    "version": 3
   },
   "file_extension": ".py",
   "mimetype": "text/x-python",
   "name": "python",
   "nbconvert_exporter": "python",
   "pygments_lexer": "ipython3",
   "version": "3.6.3"
  }
 },
 "nbformat": 4,
 "nbformat_minor": 2
}
